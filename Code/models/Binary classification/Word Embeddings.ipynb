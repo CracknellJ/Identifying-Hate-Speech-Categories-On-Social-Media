{
 "cells": [
  {
   "cell_type": "code",
   "execution_count": null,
   "metadata": {},
   "outputs": [],
   "source": [
    "#tfidf -> w2v -> gloVe"
   ]
  },
  {
   "cell_type": "code",
   "execution_count": 17,
   "metadata": {},
   "outputs": [],
   "source": [
    "import pandas as pd\n",
    "import numpy as np\n",
    "import matplotlib.pyplot as plt\n",
    "from sklearn.model_selection import train_test_split, GridSearchCV\n",
    "from sklearn.feature_extraction.text import TfidfVectorizer\n",
    "from sklearn import svm\n",
    "from sklearn.svm import LinearSVC\n",
    "from sklearn.metrics import precision_score, recall_score, f1_score, accuracy_score, plot_confusion_matrix\n",
    "import nltk\n",
    "import pickle\n",
    "\n",
    "#specific to this notebook\n",
    "import spacy\n",
    "#!python -m spacy download en_core_web_md\n",
    "import en_core_web_md\n",
    "nlp = en_core_web_md.load() \n",
    "\n",
    "import sklearn\n",
    "from sklearn.linear_model import LogisticRegression\n",
    "from sklearn.model_selection import StratifiedKFold"
   ]
  },
  {
   "cell_type": "code",
   "execution_count": 18,
   "metadata": {},
   "outputs": [
    {
     "data": {
      "text/html": [
       "<div>\n",
       "<style scoped>\n",
       "    .dataframe tbody tr th:only-of-type {\n",
       "        vertical-align: middle;\n",
       "    }\n",
       "\n",
       "    .dataframe tbody tr th {\n",
       "        vertical-align: top;\n",
       "    }\n",
       "\n",
       "    .dataframe thead th {\n",
       "        text-align: right;\n",
       "    }\n",
       "</style>\n",
       "<table border=\"1\" class=\"dataframe\">\n",
       "  <thead>\n",
       "    <tr style=\"text-align: right;\">\n",
       "      <th></th>\n",
       "      <th>id</th>\n",
       "      <th>text</th>\n",
       "      <th>Annotation</th>\n",
       "      <th>tokenized_text</th>\n",
       "      <th>text_lemma</th>\n",
       "      <th>pos_tags</th>\n",
       "      <th>Hate</th>\n",
       "    </tr>\n",
       "  </thead>\n",
       "  <tbody>\n",
       "    <tr>\n",
       "      <th>0</th>\n",
       "      <td>5.969655e+17</td>\n",
       "      <td>i just found the perfect rental why cant my le...</td>\n",
       "      <td>Neither</td>\n",
       "      <td>['found', 'perfect', 'rental', 'cant', 'lease'...</td>\n",
       "      <td>['found', 'perfect', 'rental', 'cant', 'lease'...</td>\n",
       "      <td>['i_NN', 'just_RB', 'found_VBD', 'the_DT', 'pe...</td>\n",
       "      <td>0</td>\n",
       "    </tr>\n",
       "    <tr>\n",
       "      <th>1</th>\n",
       "      <td>5.758918e+17</td>\n",
       "      <td>every time they discover anything its either ...</td>\n",
       "      <td>Neither</td>\n",
       "      <td>['every', 'time', 'discover', 'anything', 'eit...</td>\n",
       "      <td>['every', 'time', 'discover', 'anything', 'eit...</td>\n",
       "      <td>['every_DT', 'time_NN', 'they_PRP', 'discover_...</td>\n",
       "      <td>0</td>\n",
       "    </tr>\n",
       "    <tr>\n",
       "      <th>2</th>\n",
       "      <td>5.952595e+17</td>\n",
       "      <td>ok time to write code bbl\\n\\nmaking a new thing</td>\n",
       "      <td>Neither</td>\n",
       "      <td>['ok', 'time', 'write', 'code', 'bbl', 'making...</td>\n",
       "      <td>['ok', 'time', 'write', 'code', 'bbl', 'making...</td>\n",
       "      <td>['ok_JJ', 'time_NN', 'to_TO', 'write_VB', 'cod...</td>\n",
       "      <td>0</td>\n",
       "    </tr>\n",
       "    <tr>\n",
       "      <th>3</th>\n",
       "      <td>5.723449e+17</td>\n",
       "      <td>refined dessert not mkr</td>\n",
       "      <td>Neither</td>\n",
       "      <td>['refined', 'dessert', 'mkr']</td>\n",
       "      <td>['refined', 'dessert', 'mkr']</td>\n",
       "      <td>['refined_VBN', 'dessert_NN', 'not_RB', 'mkr_VB']</td>\n",
       "      <td>0</td>\n",
       "    </tr>\n",
       "    <tr>\n",
       "      <th>4</th>\n",
       "      <td>5.681320e+17</td>\n",
       "      <td>one of the best things anyone can do to impr...</td>\n",
       "      <td>Neither</td>\n",
       "      <td>['one', 'best', 'things', 'anyone', 'improve',...</td>\n",
       "      <td>['one', 'best', 'thing', 'anyone', 'improve', ...</td>\n",
       "      <td>['one_CD', 'of_IN', 'the_DT', 'best_JJS', 'thi...</td>\n",
       "      <td>0</td>\n",
       "    </tr>\n",
       "  </tbody>\n",
       "</table>\n",
       "</div>"
      ],
      "text/plain": [
       "             id                                               text Annotation  \\\n",
       "0  5.969655e+17  i just found the perfect rental why cant my le...    Neither   \n",
       "1  5.758918e+17   every time they discover anything its either ...    Neither   \n",
       "2  5.952595e+17    ok time to write code bbl\\n\\nmaking a new thing    Neither   \n",
       "3  5.723449e+17                            refined dessert not mkr    Neither   \n",
       "4  5.681320e+17    one of the best things anyone can do to impr...    Neither   \n",
       "\n",
       "                                      tokenized_text  \\\n",
       "0  ['found', 'perfect', 'rental', 'cant', 'lease'...   \n",
       "1  ['every', 'time', 'discover', 'anything', 'eit...   \n",
       "2  ['ok', 'time', 'write', 'code', 'bbl', 'making...   \n",
       "3                      ['refined', 'dessert', 'mkr']   \n",
       "4  ['one', 'best', 'things', 'anyone', 'improve',...   \n",
       "\n",
       "                                          text_lemma  \\\n",
       "0  ['found', 'perfect', 'rental', 'cant', 'lease'...   \n",
       "1  ['every', 'time', 'discover', 'anything', 'eit...   \n",
       "2  ['ok', 'time', 'write', 'code', 'bbl', 'making...   \n",
       "3                      ['refined', 'dessert', 'mkr']   \n",
       "4  ['one', 'best', 'thing', 'anyone', 'improve', ...   \n",
       "\n",
       "                                            pos_tags  Hate  \n",
       "0  ['i_NN', 'just_RB', 'found_VBD', 'the_DT', 'pe...     0  \n",
       "1  ['every_DT', 'time_NN', 'they_PRP', 'discover_...     0  \n",
       "2  ['ok_JJ', 'time_NN', 'to_TO', 'write_VB', 'cod...     0  \n",
       "3  ['refined_VBN', 'dessert_NN', 'not_RB', 'mkr_VB']     0  \n",
       "4  ['one_CD', 'of_IN', 'the_DT', 'best_JJS', 'thi...     0  "
      ]
     },
     "execution_count": 18,
     "metadata": {},
     "output_type": "execute_result"
    }
   ],
   "source": [
    "#Load in data and split for train and test sets\n",
    "df = pd.read_csv(r'C:\\Users\\jackc\\Semester2\\Project\\Identifying-Hate-Speech-Categories-On-Social-Media\\Data\\clean_dataset.csv')\n",
    "X_train, X_test, y_train, y_test = train_test_split(df['text_lemma'], df['Hate'], test_size=0.25, random_state=12)\n",
    "                                                       \n",
    "df.head(5)"
   ]
  },
  {
   "cell_type": "code",
   "execution_count": 19,
   "metadata": {},
   "outputs": [
    {
     "name": "stdout",
     "output_type": "stream",
     "text": [
      "Wall time: 44.5 s\n"
     ]
    },
    {
     "data": {
      "text/html": [
       "<div>\n",
       "<style scoped>\n",
       "    .dataframe tbody tr th:only-of-type {\n",
       "        vertical-align: middle;\n",
       "    }\n",
       "\n",
       "    .dataframe tbody tr th {\n",
       "        vertical-align: top;\n",
       "    }\n",
       "\n",
       "    .dataframe thead th {\n",
       "        text-align: right;\n",
       "    }\n",
       "</style>\n",
       "<table border=\"1\" class=\"dataframe\">\n",
       "  <thead>\n",
       "    <tr style=\"text-align: right;\">\n",
       "      <th></th>\n",
       "      <th>text</th>\n",
       "      <th>Annotation</th>\n",
       "      <th>Hate</th>\n",
       "      <th>vec</th>\n",
       "    </tr>\n",
       "  </thead>\n",
       "  <tbody>\n",
       "    <tr>\n",
       "      <th>0</th>\n",
       "      <td>i just found the perfect rental why cant my le...</td>\n",
       "      <td>Neither</td>\n",
       "      <td>0</td>\n",
       "      <td>[0.0547106, 0.22135, -0.23980302, -0.15787779,...</td>\n",
       "    </tr>\n",
       "    <tr>\n",
       "      <th>1</th>\n",
       "      <td>every time they discover anything its either ...</td>\n",
       "      <td>Neither</td>\n",
       "      <td>0</td>\n",
       "      <td>[-0.057143338, 0.14135154, -0.27148843, 0.0042...</td>\n",
       "    </tr>\n",
       "    <tr>\n",
       "      <th>2</th>\n",
       "      <td>ok time to write code bbl\\n\\nmaking a new thing</td>\n",
       "      <td>Neither</td>\n",
       "      <td>0</td>\n",
       "      <td>[0.0057974537, 0.13553664, -0.23749961, -0.046...</td>\n",
       "    </tr>\n",
       "    <tr>\n",
       "      <th>3</th>\n",
       "      <td>refined dessert not mkr</td>\n",
       "      <td>Neither</td>\n",
       "      <td>0</td>\n",
       "      <td>[-0.13199374, 0.09915501, 0.08181499, -0.27303...</td>\n",
       "    </tr>\n",
       "    <tr>\n",
       "      <th>4</th>\n",
       "      <td>one of the best things anyone can do to impr...</td>\n",
       "      <td>Neither</td>\n",
       "      <td>0</td>\n",
       "      <td>[-0.047892362, 0.08786684, -0.20262949, -0.039...</td>\n",
       "    </tr>\n",
       "  </tbody>\n",
       "</table>\n",
       "</div>"
      ],
      "text/plain": [
       "                                                text Annotation  Hate  \\\n",
       "0  i just found the perfect rental why cant my le...    Neither     0   \n",
       "1   every time they discover anything its either ...    Neither     0   \n",
       "2    ok time to write code bbl\\n\\nmaking a new thing    Neither     0   \n",
       "3                            refined dessert not mkr    Neither     0   \n",
       "4    one of the best things anyone can do to impr...    Neither     0   \n",
       "\n",
       "                                                 vec  \n",
       "0  [0.0547106, 0.22135, -0.23980302, -0.15787779,...  \n",
       "1  [-0.057143338, 0.14135154, -0.27148843, 0.0042...  \n",
       "2  [0.0057974537, 0.13553664, -0.23749961, -0.046...  \n",
       "3  [-0.13199374, 0.09915501, 0.08181499, -0.27303...  \n",
       "4  [-0.047892362, 0.08786684, -0.20262949, -0.039...  "
      ]
     },
     "execution_count": 19,
     "metadata": {},
     "output_type": "execute_result"
    }
   ],
   "source": [
    "%%time\n",
    "def get_vec(x):\n",
    "  doc = nlp(x)\n",
    "  return doc.vector\n",
    "\n",
    "doc2vec_dataset = df.drop(['id','tokenized_text','text_lemma', 'pos_tags'],axis = 1).copy()\n",
    "\n",
    "doc2vec_dataset['vec'] = doc2vec_dataset['text'].apply(lambda x: get_vec(x))\n",
    "\n",
    "doc2vec_dataset.head()"
   ]
  },
  {
   "cell_type": "code",
   "execution_count": 20,
   "metadata": {},
   "outputs": [],
   "source": [
    "# load the model from disk\n",
    "default_SVM = pickle.load(open('default_svm.sav', 'rb'))\n",
    "#grid_SVM = pickle.load(open('grid_svm.sav', 'rb'))\n",
    "grid_SVM = svm.SVC(C=10, class_weight='balanced', coef0=1, degree=5, gamma=0.01, kernel='poly',\n",
    "    random_state=12)"
   ]
  },
  {
   "cell_type": "code",
   "execution_count": 21,
   "metadata": {},
   "outputs": [
    {
     "data": {
      "text/plain": [
       "(6836, 300)"
      ]
     },
     "execution_count": 21,
     "metadata": {},
     "output_type": "execute_result"
    }
   ],
   "source": [
    "XX = doc2vec_dataset['vec'].to_numpy()\n",
    "XX = XX.reshape(-1,1)\n",
    "XX = np.concatenate(np.concatenate(XX,axis = 0),axis = 0).reshape(-1,300)\n",
    "XX.shape"
   ]
  },
  {
   "cell_type": "code",
   "execution_count": 22,
   "metadata": {},
   "outputs": [],
   "source": [
    "yy = doc2vec_dataset['Hate']"
   ]
  },
  {
   "cell_type": "code",
   "execution_count": 23,
   "metadata": {},
   "outputs": [
    {
     "name": "stdout",
     "output_type": "stream",
     "text": [
      "LogisticRegression 0.8794589573005231\n",
      "SVC 0.8848706686188385\n",
      "SVC 0.8752653555150278\n",
      "Wall time: 2min\n"
     ]
    }
   ],
   "source": [
    "%%time\n",
    "\n",
    "lr1 = LogisticRegression(max_iter=100)\n",
    "\n",
    "accuracy = []\n",
    "skf = StratifiedKFold(n_splits=10)\n",
    "skf.get_n_splits(XX, yy)\n",
    "for clf in (lr1,default_SVM, grid_SVM):\n",
    "\n",
    "    StratifiedKFold(n_splits=10, random_state=None, shuffle=False)\n",
    "    for train_index, test_index in skf.split(XX, yy):\n",
    "            \n",
    "            X1_train, X1_test = XX[train_index], XX[test_index]\n",
    "            y1_train, y1_test = yy[train_index], yy[test_index]\n",
    "\n",
    "            model = clf.fit(X1_train,y1_train)\n",
    "            y_preds = model.predict(X1_test)\n",
    "            acc = (sklearn.metrics.f1_score(y1_test,y_preds,average = 'micro'))\n",
    "            accuracy.append(acc)\n",
    "    print(clf.__class__.__name__,np.array(accuracy).mean())"
   ]
  },
  {
   "cell_type": "code",
   "execution_count": 24,
   "metadata": {},
   "outputs": [
    {
     "data": {
      "text/plain": [
       "<sklearn.metrics._plot.confusion_matrix.ConfusionMatrixDisplay at 0x1a87841c5e0>"
      ]
     },
     "execution_count": 24,
     "metadata": {},
     "output_type": "execute_result"
    },
    {
     "data": {
      "image/png": "[encoded data removed]",
      "text/plain": [
       "<Figure size 432x288 with 2 Axes>"
      ]
     },
     "metadata": {
      "needs_background": "light"
     },
     "output_type": "display_data"
    }
   ],
   "source": [
    "plot_confusion_matrix(lr1, XX, yy)"
   ]
  },
  {
   "cell_type": "code",
   "execution_count": 25,
   "metadata": {},
   "outputs": [
    {
     "data": {
      "text/plain": [
       "<sklearn.metrics._plot.confusion_matrix.ConfusionMatrixDisplay at 0x1a804c32c70>"
      ]
     },
     "execution_count": 25,
     "metadata": {},
     "output_type": "execute_result"
    },
    {
     "data": {
      "image/png": "[encoded data removed]",
      "text/plain": [
       "<Figure size 432x288 with 2 Axes>"
      ]
     },
     "metadata": {
      "needs_background": "light"
     },
     "output_type": "display_data"
    }
   ],
   "source": [
    "plot_confusion_matrix(default_SVM, XX, yy)"
   ]
  },
  {
   "cell_type": "code",
   "execution_count": 26,
   "metadata": {},
   "outputs": [
    {
     "data": {
      "text/plain": [
       "<sklearn.metrics._plot.confusion_matrix.ConfusionMatrixDisplay at 0x1a804c3f580>"
      ]
     },
     "execution_count": 26,
     "metadata": {},
     "output_type": "execute_result"
    },
    {
     "data": {
      "image/png": "[encoded data removed]",
      "text/plain": [
       "<Figure size 432x288 with 2 Axes>"
      ]
     },
     "metadata": {
      "needs_background": "light"
     },
     "output_type": "display_data"
    }
   ],
   "source": [
    "plot_confusion_matrix(grid_SVM, XX, yy)"
   ]
  },
  {
   "cell_type": "code",
   "execution_count": 40,
   "metadata": {},
   "outputs": [],
   "source": [
    "#Load in data and split for train and test sets\n",
    "X_train, X_test, y_train, y_test = train_test_split(XX, yy, test_size=0.3, random_state=12)"
   ]
  },
  {
   "cell_type": "code",
   "execution_count": 41,
   "metadata": {},
   "outputs": [
    {
     "name": "stdout",
     "output_type": "stream",
     "text": [
      "training...\n",
      "complete.\n",
      "predicting...\n",
      "complete.\n"
     ]
    }
   ],
   "source": [
    "SVM_default = svm.SVC(C=1.0, kernel='rbf', gamma='scale', shrinking=True,\n",
    "                      class_weight=None, random_state=12)\n",
    "\n",
    "# train classifier\n",
    "print(\"training...\")\n",
    "SVM_default.fit(X_train, y_train)\n",
    "print(\"complete.\")\n",
    "# use classifier to predict on test set\n",
    "print(\"predicting...\")\n",
    "SVM_test_preds = SVM_default.predict(X_test)\n",
    "print(\"complete.\")"
   ]
  },
  {
   "cell_type": "code",
   "execution_count": 42,
   "metadata": {},
   "outputs": [
    {
     "name": "stdout",
     "output_type": "stream",
     "text": [
      "Model evaluation metrics\n",
      "Precision: 0.827\n",
      "Recall: 0.467\n",
      "F1 Score: 0.597\n",
      "Weighted F1 Score: 0.884\n"
     ]
    }
   ],
   "source": [
    "SVM_metrics = {}\n",
    "SVM_default_precision = precision_score(y_test, SVM_test_preds)\n",
    "SVM_default_recall = recall_score(y_test, SVM_test_preds)\n",
    "SVM_default_f1_score = f1_score(y_test, SVM_test_preds)\n",
    "SVM_default_weighted_f1_score = f1_score(y_test, SVM_test_preds, average='weighted')\n",
    "\n",
    "#model evaluation\n",
    "print('Model evaluation metrics')\n",
    "print('Precision: {:.3}'.format(SVM_default_precision))\n",
    "print('Recall: {:.3}'.format(SVM_default_recall))\n",
    "print('F1 Score: {:.3}'.format(SVM_default_f1_score))\n",
    "print('Weighted F1 Score: {:.3}'.format(SVM_default_weighted_f1_score))\n",
    "\n",
    "SVM_metrics['Default SVM'] = {'precision': SVM_default_precision, 'recall': SVM_default_recall, \n",
    "                                  'f1_score': SVM_default_f1_score, 'weighted_f1': SVM_default_weighted_f1_score}"
   ]
  },
  {
   "cell_type": "code",
   "execution_count": 43,
   "metadata": {},
   "outputs": [
    {
     "data": {
      "text/plain": [
       "<sklearn.metrics._plot.confusion_matrix.ConfusionMatrixDisplay at 0x1a81595b160>"
      ]
     },
     "execution_count": 43,
     "metadata": {},
     "output_type": "execute_result"
    },
    {
     "data": {
      "image/png": "[encoded data removed]",
      "text/plain": [
       "<Figure size 432x288 with 2 Axes>"
      ]
     },
     "metadata": {
      "needs_background": "light"
     },
     "output_type": "display_data"
    }
   ],
   "source": [
    "plot_confusion_matrix(SVM_default, X_test, y_test)"
   ]
  },
  {
   "cell_type": "code",
   "execution_count": null,
   "metadata": {},
   "outputs": [],
   "source": []
  }
 ],
 "metadata": {
  "kernelspec": {
   "display_name": "Python 3",
   "language": "python",
   "name": "python3"
  },
  "language_info": {
   "codemirror_mode": {
    "name": "ipython",
    "version": 3
   },
   "file_extension": ".py",
   "mimetype": "text/x-python",
   "name": "python",
   "nbconvert_exporter": "python",
   "pygments_lexer": "ipython3",
   "version": "3.8.5"
  }
 },
 "nbformat": 4,
 "nbformat_minor": 4
}
