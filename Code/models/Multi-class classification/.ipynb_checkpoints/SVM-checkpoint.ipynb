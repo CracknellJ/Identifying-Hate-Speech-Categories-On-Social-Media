{
 "cells": [
  {
   "cell_type": "code",
   "execution_count": 1,
   "metadata": {},
   "outputs": [],
   "source": [
    "import pandas as pd\n",
    "import numpy as np\n",
    "import matplotlib.pyplot as plt\n",
    "from sklearn.model_selection import train_test_split, GridSearchCV\n",
    "from sklearn.feature_extraction.text import CountVectorizer\n",
    "from sklearn import svm\n",
    "from sklearn.svm import LinearSVC\n",
    "from sklearn.metrics import precision_score, recall_score, f1_score, accuracy_score, plot_confusion_matrix\n",
    "import nltk\n",
    "\n",
    "import pickle"
   ]
  },
  {
   "cell_type": "code",
   "execution_count": 4,
   "metadata": {},
   "outputs": [
    {
     "data": {
      "text/html": [
       "<div>\n",
       "<style scoped>\n",
       "    .dataframe tbody tr th:only-of-type {\n",
       "        vertical-align: middle;\n",
       "    }\n",
       "\n",
       "    .dataframe tbody tr th {\n",
       "        vertical-align: top;\n",
       "    }\n",
       "\n",
       "    .dataframe thead th {\n",
       "        text-align: right;\n",
       "    }\n",
       "</style>\n",
       "<table border=\"1\" class=\"dataframe\">\n",
       "  <thead>\n",
       "    <tr style=\"text-align: right;\">\n",
       "      <th></th>\n",
       "      <th>id</th>\n",
       "      <th>text</th>\n",
       "      <th>Annotation</th>\n",
       "      <th>tokenized_text</th>\n",
       "      <th>text_lemma</th>\n",
       "      <th>pos_tags</th>\n",
       "      <th>Hate</th>\n",
       "    </tr>\n",
       "  </thead>\n",
       "  <tbody>\n",
       "    <tr>\n",
       "      <th>0</th>\n",
       "      <td>5.969655e+17</td>\n",
       "      <td>i just found the perfect rental why cant my le...</td>\n",
       "      <td>Neither</td>\n",
       "      <td>['found', 'perfect', 'rental', 'cant', 'lease'...</td>\n",
       "      <td>['found', 'perfect', 'rental', 'cant', 'lease'...</td>\n",
       "      <td>['i_NN', 'just_RB', 'found_VBD', 'the_DT', 'pe...</td>\n",
       "      <td>0</td>\n",
       "    </tr>\n",
       "    <tr>\n",
       "      <th>1</th>\n",
       "      <td>5.758918e+17</td>\n",
       "      <td>every time they discover anything its either ...</td>\n",
       "      <td>Neither</td>\n",
       "      <td>['every', 'time', 'discover', 'anything', 'eit...</td>\n",
       "      <td>['every', 'time', 'discover', 'anything', 'eit...</td>\n",
       "      <td>['every_DT', 'time_NN', 'they_PRP', 'discover_...</td>\n",
       "      <td>0</td>\n",
       "    </tr>\n",
       "    <tr>\n",
       "      <th>2</th>\n",
       "      <td>5.952595e+17</td>\n",
       "      <td>ok time to write code bbl\\n\\nmaking a new thing</td>\n",
       "      <td>Neither</td>\n",
       "      <td>['ok', 'time', 'write', 'code', 'bbl', 'making...</td>\n",
       "      <td>['ok', 'time', 'write', 'code', 'bbl', 'making...</td>\n",
       "      <td>['ok_JJ', 'time_NN', 'to_TO', 'write_VB', 'cod...</td>\n",
       "      <td>0</td>\n",
       "    </tr>\n",
       "    <tr>\n",
       "      <th>3</th>\n",
       "      <td>5.723449e+17</td>\n",
       "      <td>refined dessert not mkr</td>\n",
       "      <td>Neither</td>\n",
       "      <td>['refined', 'dessert', 'mkr']</td>\n",
       "      <td>['refined', 'dessert', 'mkr']</td>\n",
       "      <td>['refined_VBN', 'dessert_NN', 'not_RB', 'mkr_VB']</td>\n",
       "      <td>0</td>\n",
       "    </tr>\n",
       "    <tr>\n",
       "      <th>4</th>\n",
       "      <td>5.681320e+17</td>\n",
       "      <td>one of the best things anyone can do to impr...</td>\n",
       "      <td>Neither</td>\n",
       "      <td>['one', 'best', 'things', 'anyone', 'improve',...</td>\n",
       "      <td>['one', 'best', 'thing', 'anyone', 'improve', ...</td>\n",
       "      <td>['one_CD', 'of_IN', 'the_DT', 'best_JJS', 'thi...</td>\n",
       "      <td>0</td>\n",
       "    </tr>\n",
       "  </tbody>\n",
       "</table>\n",
       "</div>"
      ],
      "text/plain": [
       "             id                                               text Annotation  \\\n",
       "0  5.969655e+17  i just found the perfect rental why cant my le...    Neither   \n",
       "1  5.758918e+17   every time they discover anything its either ...    Neither   \n",
       "2  5.952595e+17    ok time to write code bbl\\n\\nmaking a new thing    Neither   \n",
       "3  5.723449e+17                            refined dessert not mkr    Neither   \n",
       "4  5.681320e+17    one of the best things anyone can do to impr...    Neither   \n",
       "\n",
       "                                      tokenized_text  \\\n",
       "0  ['found', 'perfect', 'rental', 'cant', 'lease'...   \n",
       "1  ['every', 'time', 'discover', 'anything', 'eit...   \n",
       "2  ['ok', 'time', 'write', 'code', 'bbl', 'making...   \n",
       "3                      ['refined', 'dessert', 'mkr']   \n",
       "4  ['one', 'best', 'things', 'anyone', 'improve',...   \n",
       "\n",
       "                                          text_lemma  \\\n",
       "0  ['found', 'perfect', 'rental', 'cant', 'lease'...   \n",
       "1  ['every', 'time', 'discover', 'anything', 'eit...   \n",
       "2  ['ok', 'time', 'write', 'code', 'bbl', 'making...   \n",
       "3                      ['refined', 'dessert', 'mkr']   \n",
       "4  ['one', 'best', 'thing', 'anyone', 'improve', ...   \n",
       "\n",
       "                                            pos_tags  Hate  \n",
       "0  ['i_NN', 'just_RB', 'found_VBD', 'the_DT', 'pe...     0  \n",
       "1  ['every_DT', 'time_NN', 'they_PRP', 'discover_...     0  \n",
       "2  ['ok_JJ', 'time_NN', 'to_TO', 'write_VB', 'cod...     0  \n",
       "3  ['refined_VBN', 'dessert_NN', 'not_RB', 'mkr_VB']     0  \n",
       "4  ['one_CD', 'of_IN', 'the_DT', 'best_JJS', 'thi...     0  "
      ]
     },
     "execution_count": 4,
     "metadata": {},
     "output_type": "execute_result"
    }
   ],
   "source": [
    "#Load in data and split for train and test sets\n",
    "df = pd.read_csv(r'C:\\Users\\jackc\\Semester2\\Project\\Identifying-Hate-Speech-Categories-On-Social-Media\\Data\\clean_dataset.csv')\n",
    "X_train, X_test, y_train, y_test = train_test_split(df['text_lemma'], df['Annotation'], test_size=0.25, random_state=12)\n",
    "                                                       \n",
    "df.head(5)"
   ]
  },
  {
   "cell_type": "code",
   "execution_count": 5,
   "metadata": {},
   "outputs": [],
   "source": [
    "#create count matrix\n",
    "counts = CountVectorizer()\n",
    "count_train = counts.fit_transform(X_train)\n",
    "count_test = counts.transform(X_test)"
   ]
  },
  {
   "cell_type": "code",
   "execution_count": 6,
   "metadata": {},
   "outputs": [],
   "source": [
    "SVM_default = svm.SVC(C=1.0, kernel='rbf', gamma='scale', shrinking=True,\n",
    "                      class_weight=None, random_state=12)"
   ]
  },
  {
   "cell_type": "code",
   "execution_count": 7,
   "metadata": {},
   "outputs": [
    {
     "name": "stdout",
     "output_type": "stream",
     "text": [
      "training...\n",
      "complete.\n",
      "predicting...\n",
      "complete.\n"
     ]
    }
   ],
   "source": [
    "# train classifier\n",
    "print(\"training...\")\n",
    "SVM_default.fit(count_train, y_train)\n",
    "print(\"complete.\")\n",
    "# use classifier to predict on test set\n",
    "print(\"predicting...\")\n",
    "SVM_test_preds = SVM_default.predict(count_test)\n",
    "print(\"complete.\")"
   ]
  },
  {
   "cell_type": "code",
   "execution_count": 10,
   "metadata": {},
   "outputs": [
    {
     "name": "stdout",
     "output_type": "stream",
     "text": [
      "Model evaluation metrics\n",
      "Precision: 0.814\n",
      "Recall: 0.506\n",
      "Macro F1 Score: 0.578\n"
     ]
    }
   ],
   "source": [
    "SVM_metrics = {}\n",
    "SVM_default_precision = precision_score(y_test, SVM_test_preds, average='macro')\n",
    "SVM_default_recall = recall_score(y_test, SVM_test_preds, average='macro')\n",
    "SVM_default_macro_f1_score = f1_score(y_test, SVM_test_preds, average='macro')\n",
    "\n",
    "#model evaluation\n",
    "print('Model evaluation metrics')\n",
    "print('Precision: {:.3}'.format(SVM_default_precision))\n",
    "print('Recall: {:.3}'.format(SVM_default_recall))\n",
    "print('Macro F1 Score: {:.3}'.format(SVM_default_macro_f1_score))\n",
    "\n",
    "SVM_metrics['Default SVM'] = {'precision': SVM_default_precision, 'recall': SVM_default_recall, \n",
    "                              'macro_f1': SVM_default_macro_f1_score}"
   ]
  },
  {
   "cell_type": "code",
   "execution_count": 11,
   "metadata": {},
   "outputs": [
    {
     "data": {
      "text/plain": [
       "<sklearn.metrics._plot.confusion_matrix.ConfusionMatrixDisplay at 0x22c3642c310>"
      ]
     },
     "execution_count": 11,
     "metadata": {},
     "output_type": "execute_result"
    },
    {
     "data": {
      "image/png": "[encoded data removed]",
      "text/plain": [
       "<Figure size 432x288 with 2 Axes>"
      ]
     },
     "metadata": {
      "needs_background": "light"
     },
     "output_type": "display_data"
    }
   ],
   "source": [
    "plot_confusion_matrix(SVM_default, count_test, y_test)"
   ]
  },
  {
   "cell_type": "code",
   "execution_count": 12,
   "metadata": {},
   "outputs": [
    {
     "data": {
      "text/html": [
       "<div>\n",
       "<style scoped>\n",
       "    .dataframe tbody tr th:only-of-type {\n",
       "        vertical-align: middle;\n",
       "    }\n",
       "\n",
       "    .dataframe tbody tr th {\n",
       "        vertical-align: top;\n",
       "    }\n",
       "\n",
       "    .dataframe thead th {\n",
       "        text-align: right;\n",
       "    }\n",
       "</style>\n",
       "<table border=\"1\" class=\"dataframe\">\n",
       "  <thead>\n",
       "    <tr style=\"text-align: right;\">\n",
       "      <th></th>\n",
       "      <th>precision</th>\n",
       "      <th>recall</th>\n",
       "      <th>macro_f1</th>\n",
       "    </tr>\n",
       "  </thead>\n",
       "  <tbody>\n",
       "    <tr>\n",
       "      <th>Default SVM</th>\n",
       "      <td>0.813699</td>\n",
       "      <td>0.505804</td>\n",
       "      <td>0.57806</td>\n",
       "    </tr>\n",
       "  </tbody>\n",
       "</table>\n",
       "</div>"
      ],
      "text/plain": [
       "             precision    recall  macro_f1\n",
       "Default SVM   0.813699  0.505804   0.57806"
      ]
     },
     "execution_count": 12,
     "metadata": {},
     "output_type": "execute_result"
    }
   ],
   "source": [
    "#compare parameters\n",
    "results = pd.DataFrame.from_dict(SVM_metrics, orient='index')\n",
    "results.to_csv(r\"C:\\Users\\jackc\\Semester2\\Project\\Identifying-Hate-Speech-Categories-On-Social-Media\\Results\\SVM_count_results\",\n",
    "               index=False)\n",
    "results"
   ]
  },
  {
   "cell_type": "code",
   "execution_count": null,
   "metadata": {},
   "outputs": [],
   "source": []
  }
 ],
 "metadata": {
  "kernelspec": {
   "display_name": "Python 3",
   "language": "python",
   "name": "python3"
  },
  "language_info": {
   "codemirror_mode": {
    "name": "ipython",
    "version": 3
   },
   "file_extension": ".py",
   "mimetype": "text/x-python",
   "name": "python",
   "nbconvert_exporter": "python",
   "pygments_lexer": "ipython3",
   "version": "3.8.5"
  }
 },
 "nbformat": 4,
 "nbformat_minor": 4
}
