{
 "cells": [
  {
   "cell_type": "code",
   "execution_count": 12,
   "metadata": {},
   "outputs": [],
   "source": [
    "import pandas as pd"
   ]
  },
  {
   "cell_type": "code",
   "execution_count": 13,
   "metadata": {},
   "outputs": [],
   "source": [
    "dataset = pd.read_csv(r'C:\\Users\\Jack\\Desktop\\proj\\Identifying-Hate-Speech-Categories-On-Social-Media\\Data\\dataset_no_dupes.csv')"
   ]
  },
  {
   "cell_type": "code",
   "execution_count": 14,
   "metadata": {},
   "outputs": [
    {
     "data": {
      "text/html": [
       "<div>\n",
       "<style scoped>\n",
       "    .dataframe tbody tr th:only-of-type {\n",
       "        vertical-align: middle;\n",
       "    }\n",
       "\n",
       "    .dataframe tbody tr th {\n",
       "        vertical-align: top;\n",
       "    }\n",
       "\n",
       "    .dataframe thead th {\n",
       "        text-align: right;\n",
       "    }\n",
       "</style>\n",
       "<table border=\"1\" class=\"dataframe\">\n",
       "  <thead>\n",
       "    <tr style=\"text-align: right;\">\n",
       "      <th></th>\n",
       "      <th>TweetID</th>\n",
       "      <th>HateType</th>\n",
       "      <th>TweetText</th>\n",
       "      <th>Hate</th>\n",
       "    </tr>\n",
       "  </thead>\n",
       "  <tbody>\n",
       "    <tr>\n",
       "      <th>0</th>\n",
       "      <td>572342978255048705</td>\n",
       "      <td>racism</td>\n",
       "      <td>So Drasko just said he was impressed the girls...</td>\n",
       "      <td>1</td>\n",
       "    </tr>\n",
       "    <tr>\n",
       "      <th>1</th>\n",
       "      <td>572341498827522049</td>\n",
       "      <td>racism</td>\n",
       "      <td>Drasko they didn't cook half a bird you idiot ...</td>\n",
       "      <td>1</td>\n",
       "    </tr>\n",
       "    <tr>\n",
       "      <th>2</th>\n",
       "      <td>572340476503724032</td>\n",
       "      <td>racism</td>\n",
       "      <td>Hopefully someone cooks Drasko in the next ep ...</td>\n",
       "      <td>1</td>\n",
       "    </tr>\n",
       "    <tr>\n",
       "      <th>3</th>\n",
       "      <td>572334712804384768</td>\n",
       "      <td>racism</td>\n",
       "      <td>of course you were born in serbia...you're as ...</td>\n",
       "      <td>1</td>\n",
       "    </tr>\n",
       "    <tr>\n",
       "      <th>4</th>\n",
       "      <td>572332655397629952</td>\n",
       "      <td>racism</td>\n",
       "      <td>These girls are the equivalent of the irritati...</td>\n",
       "      <td>1</td>\n",
       "    </tr>\n",
       "  </tbody>\n",
       "</table>\n",
       "</div>"
      ],
      "text/plain": [
       "              TweetID HateType  \\\n",
       "0  572342978255048705   racism   \n",
       "1  572341498827522049   racism   \n",
       "2  572340476503724032   racism   \n",
       "3  572334712804384768   racism   \n",
       "4  572332655397629952   racism   \n",
       "\n",
       "                                           TweetText  Hate  \n",
       "0  So Drasko just said he was impressed the girls...     1  \n",
       "1  Drasko they didn't cook half a bird you idiot ...     1  \n",
       "2  Hopefully someone cooks Drasko in the next ep ...     1  \n",
       "3  of course you were born in serbia...you're as ...     1  \n",
       "4  These girls are the equivalent of the irritati...     1  "
      ]
     },
     "execution_count": 14,
     "metadata": {},
     "output_type": "execute_result"
    }
   ],
   "source": [
    "dataset.head(5)"
   ]
  },
  {
   "cell_type": "code",
   "execution_count": 15,
   "metadata": {},
   "outputs": [
    {
     "name": "stdout",
     "output_type": "stream",
     "text": [
      "size of dataset: 2963 \n",
      "\n",
      "class distribution of dataset:\n",
      "none      2096\n",
      "sexism     844\n",
      "racism      18\n",
      "both         5\n",
      "Name: HateType, dtype: int64\n"
     ]
    }
   ],
   "source": [
    "print(\"size of dataset:\", len(dataset), \"\\n\")\n",
    "print(\"class distribution of dataset:\")\n",
    "print(dataset['HateType'].value_counts())"
   ]
  },
  {
   "cell_type": "code",
   "execution_count": 26,
   "metadata": {},
   "outputs": [
    {
     "name": "stdout",
     "output_type": "stream",
     "text": [
      "Percentage of tweets that contain no hate speech: 0.7073911576105298 %\n",
      "Percentage of tweets that contain sexism: 0.28484643941950727 %\n",
      "Percentage of tweets that contain racism: 0.006074924063449207 %\n",
      "Percentage of tweets that contain both sexism and racism: 0.0016874789065136687 %\n"
     ]
    }
   ],
   "source": [
    "none, sexism, racism, both = dataset['HateType'].value_counts().values\n",
    "dataset_size = len(dataset)\n",
    "print(\"Percentage of tweets that contain no hate speech:\", none / dataset_size, \"%\")\n",
    "print(\"Percentage of tweets that contain sexism:\", sexism / dataset_size, \"%\")\n",
    "print(\"Percentage of tweets that contain racism:\", racism / dataset_size, \"%\")\n",
    "print(\"Percentage of tweets that contain both sexism and racism:\", both / dataset_size, \"%\")"
   ]
  },
  {
   "cell_type": "code",
   "execution_count": null,
   "metadata": {},
   "outputs": [],
   "source": [
    "#example racist tweet\n",
    "\n",
    "\n",
    "#example sexist tweet\n",
    "\n"
   ]
  }
 ],
 "metadata": {
  "kernelspec": {
   "display_name": "Python 3",
   "language": "python",
   "name": "python3"
  },
  "language_info": {
   "codemirror_mode": {
    "name": "ipython",
    "version": 3
   },
   "file_extension": ".py",
   "mimetype": "text/x-python",
   "name": "python",
   "nbconvert_exporter": "python",
   "pygments_lexer": "ipython3",
   "version": "3.8.5"
  }
 },
 "nbformat": 4,
 "nbformat_minor": 4
}
