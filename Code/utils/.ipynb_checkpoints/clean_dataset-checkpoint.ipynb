{
 "cells": [
  {
   "cell_type": "code",
   "execution_count": 50,
   "metadata": {},
   "outputs": [],
   "source": [
    "import pandas as pd\n",
    "pd.options.display.float_format = '{:.0f}'.format"
   ]
  },
  {
   "cell_type": "code",
   "execution_count": 51,
   "metadata": {},
   "outputs": [],
   "source": [
    "df = pd.read_csv(r'C:\\Users\\jackc\\Semester2\\Project\\Identifying-Hate-Speech-Categories-On-Social-Media\\Data\\unclean_combined_dataset.csv')"
   ]
  },
  {
   "cell_type": "code",
   "execution_count": 52,
   "metadata": {},
   "outputs": [
    {
     "data": {
      "text/html": [
       "<div>\n",
       "<style scoped>\n",
       "    .dataframe tbody tr th:only-of-type {\n",
       "        vertical-align: middle;\n",
       "    }\n",
       "\n",
       "    .dataframe tbody tr th {\n",
       "        vertical-align: top;\n",
       "    }\n",
       "\n",
       "    .dataframe thead th {\n",
       "        text-align: right;\n",
       "    }\n",
       "</style>\n",
       "<table border=\"1\" class=\"dataframe\">\n",
       "  <thead>\n",
       "    <tr style=\"text-align: right;\">\n",
       "      <th></th>\n",
       "      <th>id</th>\n",
       "      <th>text</th>\n",
       "      <th>Annotation</th>\n",
       "    </tr>\n",
       "  </thead>\n",
       "  <tbody>\n",
       "    <tr>\n",
       "      <th>0</th>\n",
       "      <td>596965466238619648</td>\n",
       "      <td>I just found the *perfect* rental. Why can't m...</td>\n",
       "      <td>Neither</td>\n",
       "    </tr>\n",
       "    <tr>\n",
       "      <th>1</th>\n",
       "      <td>575891807873040384</td>\n",
       "      <td>@wetsprocket every time they \"discover\" anythi...</td>\n",
       "      <td>Neither</td>\n",
       "    </tr>\n",
       "    <tr>\n",
       "      <th>2</th>\n",
       "      <td>595259457828884480</td>\n",
       "      <td>ok time to write code bbl.\\n\\nmaking a new thing.</td>\n",
       "      <td>Neither</td>\n",
       "    </tr>\n",
       "    <tr>\n",
       "      <th>3</th>\n",
       "      <td>572344911002927104</td>\n",
       "      <td>Refined dessert! NOT #MKR</td>\n",
       "      <td>Neither</td>\n",
       "    </tr>\n",
       "    <tr>\n",
       "      <th>4</th>\n",
       "      <td>568132033215475712</td>\n",
       "      <td>@furt1v3ly @ClarkHat One of the best things an...</td>\n",
       "      <td>Neither</td>\n",
       "    </tr>\n",
       "  </tbody>\n",
       "</table>\n",
       "</div>"
      ],
      "text/plain": [
       "                  id                                               text  \\\n",
       "0 596965466238619648  I just found the *perfect* rental. Why can't m...   \n",
       "1 575891807873040384  @wetsprocket every time they \"discover\" anythi...   \n",
       "2 595259457828884480  ok time to write code bbl.\\n\\nmaking a new thing.   \n",
       "3 572344911002927104                          Refined dessert! NOT #MKR   \n",
       "4 568132033215475712  @furt1v3ly @ClarkHat One of the best things an...   \n",
       "\n",
       "  Annotation  \n",
       "0    Neither  \n",
       "1    Neither  \n",
       "2    Neither  \n",
       "3    Neither  \n",
       "4    Neither  "
      ]
     },
     "execution_count": 52,
     "metadata": {},
     "output_type": "execute_result"
    }
   ],
   "source": [
    "df.head(5)"
   ]
  },
  {
   "cell_type": "code",
   "execution_count": 83,
   "metadata": {},
   "outputs": [
    {
     "name": "stdout",
     "output_type": "stream",
     "text": [
      "example tweet with a link in it:\n",
      " Verification: Yes, this is me. \n",
      "\n",
      " remove substrings of the 'text' column that have a http or https link...\n",
      "\n",
      "the tweet text now reads:\n",
      " Verification: Yes, this is me. \n"
     ]
    }
   ],
   "source": [
    "#text column requires some cleaning before the data can be used in a model\n",
    "\n",
    "#1 - removing any links (links to websites / pictures)\n",
    "#twitter has a link shortener where links will begin with http://t.co\n",
    "\n",
    "print(\"example tweet with a link in it:\\n\", df.iloc[123].text)\n",
    "\n",
    "import re\n",
    "print(\"\\n remove substrings of the 'text' column that have a http or https link...\\n\")\n",
    "for i in range(len(df)):\n",
    "    current_text = df.iloc[i].text\n",
    "    text_without_link = re.sub('http://\\S+|https://\\S+', '', current_text)\n",
    "    df['text'] = df['text'].replace(current_text, text_without_link)\n",
    "    \n",
    "print(\"the tweet text now reads:\\n\", df.iloc[123].text)\n",
    "\n",
    "df.to_csv(r\"C:\\Users\\jackc\\Semester2\\Project\\Identifying-Hate-Speech-Categories-On-Social-Media\\\n",
    "            Data\\dataset_no_links.csv\", index=False)"
   ]
  },
  {
   "cell_type": "code",
   "execution_count": 30,
   "metadata": {},
   "outputs": [
    {
     "data": {
      "text/plain": [
       "'Verification: Yes, this is me. '"
      ]
     },
     "execution_count": 30,
     "metadata": {},
     "output_type": "execute_result"
    }
   ],
   "source": []
  },
  {
   "cell_type": "code",
   "execution_count": null,
   "metadata": {},
   "outputs": [],
   "source": []
  }
 ],
 "metadata": {
  "kernelspec": {
   "display_name": "Python 3",
   "language": "python",
   "name": "python3"
  },
  "language_info": {
   "codemirror_mode": {
    "name": "ipython",
    "version": 3
   },
   "file_extension": ".py",
   "mimetype": "text/x-python",
   "name": "python",
   "nbconvert_exporter": "python",
   "pygments_lexer": "ipython3",
   "version": "3.8.5"
  }
 },
 "nbformat": 4,
 "nbformat_minor": 4
}
