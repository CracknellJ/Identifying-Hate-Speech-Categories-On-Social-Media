{
 "cells": [
  {
   "cell_type": "code",
   "execution_count": 2,
   "metadata": {},
   "outputs": [
    {
     "name": "stdout",
     "output_type": "stream",
     "text": [
      "Last night I published `react-native-maps-directions`, a component to use with @AirbnbEng’s `react-native-maps` whi… https://t.co/yalyJx90Wx\n"
     ]
    }
   ],
   "source": [
    "import tweepy\n",
    "\n",
    "CONSUMER_KEY = \"VDys3qnTIiRPDr2x1UnxOc90q\"\n",
    "CONSUMER_SECRET = \"FK3ixwCRIRdnsmz4tTKiboPeEDzKMUcayTxHVjrwyxfAyIEwC3\"\n",
    "CALLBACK_URI = 'oob'\n",
    "\n",
    "auth = tweepy.OAuthHandler(CONSUMER_KEY, CONSUMER_SECRET, CALLBACK_URI)\n",
    "#auth.set_access_token(OAUTH_TOKEN, OAUTH_TOKEN_SECRET)\n",
    "api = tweepy.API(auth)\n",
    "\n",
    "tweet = api.get_status(932586791953158144)\n",
    "print(tweet.text)"
   ]
  },
  {
   "cell_type": "code",
   "execution_count": null,
   "metadata": {},
   "outputs": [],
   "source": []
  }
 ],
 "metadata": {
  "kernelspec": {
   "display_name": "Python 3",
   "language": "python",
   "name": "python3"
  },
  "language_info": {
   "codemirror_mode": {
    "name": "ipython",
    "version": 3
   },
   "file_extension": ".py",
   "mimetype": "text/x-python",
   "name": "python",
   "nbconvert_exporter": "python",
   "pygments_lexer": "ipython3",
   "version": "3.8.5"
  }
 },
 "nbformat": 4,
 "nbformat_minor": 4
}
